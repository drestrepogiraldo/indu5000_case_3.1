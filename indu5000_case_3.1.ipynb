{
 "cells": [
  {
   "cell_type": "markdown",
   "source": "# Case 3.1",
   "metadata": {
    "tags": [],
    "is_collapsed": false,
    "cell_id": "00000-12f35f46-a939-4ac3-b194-a548816bf51b",
    "deepnote_cell_type": "text-cell-h1"
   }
  },
  {
   "cell_type": "markdown",
   "source": "## Business Problem",
   "metadata": {
    "tags": [],
    "is_collapsed": false,
    "cell_id": "00001-f2036740-55e8-4929-8c15-74c32493616a",
    "deepnote_cell_type": "text-cell-h2"
   }
  },
  {
   "cell_type": "markdown",
   "source": "We are interested in understanding the behaviour and dynamics of TESLA (TSLA) stock. This information was downloaded from [Yahoo Finance](https://finance.yahoo.com/quote/TSLA/history?p=TSLA) after the closing time of september 22 of 2021",
   "metadata": {
    "tags": [],
    "cell_id": "00002-a8f160d4-4ee8-412e-8ae7-3069ba3e2969",
    "deepnote_cell_type": "markdown"
   }
  },
  {
   "cell_type": "markdown",
   "source": "## Packages Import",
   "metadata": {
    "tags": [],
    "is_collapsed": false,
    "cell_id": "00002-839bf5de-d2ce-42c5-ad82-603be89d8869",
    "deepnote_cell_type": "text-cell-h2"
   }
  },
  {
   "cell_type": "code",
   "metadata": {
    "tags": [],
    "cell_id": "00004-dc86ac61-e7ec-46fa-9e0b-e0a979c14875",
    "deepnote_to_be_reexecuted": false,
    "source_hash": "bfc0ddb6",
    "execution_start": 1632429905081,
    "execution_millis": 1074,
    "deepnote_cell_type": "code"
   },
   "source": "import pandas as pd\nimport seaborn as sns\nimport matplotlib.pyplot as plt",
   "execution_count": 1,
   "outputs": []
  },
  {
   "cell_type": "markdown",
   "source": "## Data Import",
   "metadata": {
    "tags": [],
    "is_collapsed": false,
    "cell_id": "00005-d06a42ad-d7d4-4b50-8233-d7c3a6eb81ad",
    "deepnote_cell_type": "text-cell-h2"
   }
  },
  {
   "cell_type": "code",
   "metadata": {
    "tags": [],
    "cell_id": "00006-2052530f-af2e-4caf-9ace-cc3b19018b2c",
    "deepnote_to_be_reexecuted": false,
    "source_hash": "b15b8fec",
    "execution_start": 1632429906159,
    "execution_millis": 8,
    "deepnote_cell_type": "code"
   },
   "source": "data_tesla = pd.read_csv('/work/indu5000_case_3.1/Data/TSLA.csv',sep=',') ",
   "execution_count": 2,
   "outputs": []
  },
  {
   "cell_type": "code",
   "metadata": {
    "tags": [],
    "cell_id": "00007-44e69637-cf0c-4d8c-b889-71591e64f97d",
    "deepnote_to_be_reexecuted": false,
    "source_hash": "3f7ee32b",
    "execution_start": 1632429906187,
    "execution_millis": 21,
    "deepnote_cell_type": "code"
   },
   "source": "data_tesla.head()",
   "execution_count": 3,
   "outputs": [
    {
     "output_type": "execute_result",
     "execution_count": 3,
     "data": {
      "application/vnd.deepnote.dataframe.v2+json": {
       "row_count": 5,
       "column_count": 7,
       "columns": [
        {
         "name": "Date",
         "dtype": "object",
         "stats": {
          "unique_count": 5,
          "nan_count": 0,
          "categories": [
           {
            "name": "2020-09-23",
            "count": 1
           },
           {
            "name": "2020-09-24",
            "count": 1
           },
           {
            "name": "3 others",
            "count": 3
           }
          ]
         }
        },
        {
         "name": "Open",
         "dtype": "float64",
         "stats": {
          "unique_count": 5,
          "nan_count": 0,
          "min": "363.799988",
          "max": "424.619995",
          "histogram": [
           {
            "bin_start": 363.799988,
            "bin_end": 369.88198869999997,
            "count": 1
           },
           {
            "bin_start": 369.88198869999997,
            "bin_end": 375.9639894,
            "count": 0
           },
           {
            "bin_start": 375.9639894,
            "bin_end": 382.0459901,
            "count": 0
           },
           {
            "bin_start": 382.0459901,
            "bin_end": 388.1279908,
            "count": 0
           },
           {
            "bin_start": 388.1279908,
            "bin_end": 394.2099915,
            "count": 1
           },
           {
            "bin_start": 394.2099915,
            "bin_end": 400.2919922,
            "count": 0
           },
           {
            "bin_start": 400.2919922,
            "bin_end": 406.3739929,
            "count": 1
           },
           {
            "bin_start": 406.3739929,
            "bin_end": 412.4559936,
            "count": 0
           },
           {
            "bin_start": 412.4559936,
            "bin_end": 418.53799430000004,
            "count": 1
           },
           {
            "bin_start": 418.53799430000004,
            "bin_end": 424.619995,
            "count": 1
           }
          ]
         }
        },
        {
         "name": "High",
         "dtype": "float64",
         "stats": {
          "unique_count": 5,
          "nan_count": 0,
          "min": "399.5",
          "max": "428.5",
          "histogram": [
           {
            "bin_start": 399.5,
            "bin_end": 402.4,
            "count": 1
           },
           {
            "bin_start": 402.4,
            "bin_end": 405.3,
            "count": 0
           },
           {
            "bin_start": 405.3,
            "bin_end": 408.2,
            "count": 0
           },
           {
            "bin_start": 408.2,
            "bin_end": 411.1,
            "count": 1
           },
           {
            "bin_start": 411.1,
            "bin_end": 414,
            "count": 1
           },
           {
            "bin_start": 414,
            "bin_end": 416.9,
            "count": 0
           },
           {
            "bin_start": 416.9,
            "bin_end": 419.8,
            "count": 0
           },
           {
            "bin_start": 419.8,
            "bin_end": 422.7,
            "count": 0
           },
           {
            "bin_start": 422.7,
            "bin_end": 425.6,
            "count": 0
           },
           {
            "bin_start": 425.6,
            "bin_end": 428.5,
            "count": 2
           }
          ]
         }
        },
        {
         "name": "Low",
         "dtype": "float64",
         "stats": {
          "unique_count": 5,
          "nan_count": 0,
          "min": "351.299988",
          "max": "415.549988",
          "histogram": [
           {
            "bin_start": 351.299988,
            "bin_end": 357.724988,
            "count": 1
           },
           {
            "bin_start": 357.724988,
            "bin_end": 364.149988,
            "count": 0
           },
           {
            "bin_start": 364.149988,
            "bin_end": 370.57498799999996,
            "count": 0
           },
           {
            "bin_start": 370.57498799999996,
            "bin_end": 376.999988,
            "count": 1
           },
           {
            "bin_start": 376.999988,
            "bin_end": 383.424988,
            "count": 0
           },
           {
            "bin_start": 383.424988,
            "bin_end": 389.849988,
            "count": 0
           },
           {
            "bin_start": 389.849988,
            "bin_end": 396.274988,
            "count": 1
           },
           {
            "bin_start": 396.274988,
            "bin_end": 402.69998799999996,
            "count": 0
           },
           {
            "bin_start": 402.69998799999996,
            "bin_end": 409.124988,
            "count": 0
           },
           {
            "bin_start": 409.124988,
            "bin_end": 415.549988,
            "count": 2
           }
          ]
         }
        },
        {
         "name": "Close",
         "dtype": "float64",
         "stats": {
          "unique_count": 5,
          "nan_count": 0,
          "min": "380.359985",
          "max": "421.200012",
          "histogram": [
           {
            "bin_start": 380.359985,
            "bin_end": 384.4439877,
            "count": 1
           },
           {
            "bin_start": 384.4439877,
            "bin_end": 388.5279904,
            "count": 1
           },
           {
            "bin_start": 388.5279904,
            "bin_end": 392.6119931,
            "count": 0
           },
           {
            "bin_start": 392.6119931,
            "bin_end": 396.6959958,
            "count": 0
           },
           {
            "bin_start": 396.6959958,
            "bin_end": 400.77999850000003,
            "count": 0
           },
           {
            "bin_start": 400.77999850000003,
            "bin_end": 404.8640012,
            "count": 0
           },
           {
            "bin_start": 404.8640012,
            "bin_end": 408.9480039,
            "count": 1
           },
           {
            "bin_start": 408.9480039,
            "bin_end": 413.0320066,
            "count": 0
           },
           {
            "bin_start": 413.0320066,
            "bin_end": 417.11600930000003,
            "count": 0
           },
           {
            "bin_start": 417.11600930000003,
            "bin_end": 421.200012,
            "count": 2
           }
          ]
         }
        },
        {
         "name": "Adj Close",
         "dtype": "float64",
         "stats": {
          "unique_count": 5,
          "nan_count": 0,
          "min": "380.359985",
          "max": "421.200012",
          "histogram": [
           {
            "bin_start": 380.359985,
            "bin_end": 384.4439877,
            "count": 1
           },
           {
            "bin_start": 384.4439877,
            "bin_end": 388.5279904,
            "count": 1
           },
           {
            "bin_start": 388.5279904,
            "bin_end": 392.6119931,
            "count": 0
           },
           {
            "bin_start": 392.6119931,
            "bin_end": 396.6959958,
            "count": 0
           },
           {
            "bin_start": 396.6959958,
            "bin_end": 400.77999850000003,
            "count": 0
           },
           {
            "bin_start": 400.77999850000003,
            "bin_end": 404.8640012,
            "count": 0
           },
           {
            "bin_start": 404.8640012,
            "bin_end": 408.9480039,
            "count": 1
           },
           {
            "bin_start": 408.9480039,
            "bin_end": 413.0320066,
            "count": 0
           },
           {
            "bin_start": 413.0320066,
            "bin_end": 417.11600930000003,
            "count": 0
           },
           {
            "bin_start": 417.11600930000003,
            "bin_end": 421.200012,
            "count": 2
           }
          ]
         }
        },
        {
         "name": "Volume",
         "dtype": "int64",
         "stats": {
          "unique_count": 5,
          "nan_count": 0,
          "min": "49719600",
          "max": "96561100",
          "histogram": [
           {
            "bin_start": 49719600,
            "bin_end": 54403750,
            "count": 2
           },
           {
            "bin_start": 54403750,
            "bin_end": 59087900,
            "count": 0
           },
           {
            "bin_start": 59087900,
            "bin_end": 63772050,
            "count": 0
           },
           {
            "bin_start": 63772050,
            "bin_end": 68456200,
            "count": 1
           },
           {
            "bin_start": 68456200,
            "bin_end": 73140350,
            "count": 0
           },
           {
            "bin_start": 73140350,
            "bin_end": 77824500,
            "count": 0
           },
           {
            "bin_start": 77824500,
            "bin_end": 82508650,
            "count": 0
           },
           {
            "bin_start": 82508650,
            "bin_end": 87192800,
            "count": 0
           },
           {
            "bin_start": 87192800,
            "bin_end": 91876950,
            "count": 0
           },
           {
            "bin_start": 91876950,
            "bin_end": 96561100,
            "count": 2
           }
          ]
         }
        },
        {
         "name": "_deepnote_index_column",
         "dtype": "int64"
        }
       ],
       "rows_top": [
        {
         "Date": "2020-09-23",
         "Open": 405.160004,
         "High": 412.149994,
         "Low": 375.880005,
         "Close": 380.359985,
         "Adj Close": 380.359985,
         "Volume": 95074200,
         "_deepnote_index_column": 0
        },
        {
         "Date": "2020-09-24",
         "Open": 363.799988,
         "High": 399.5,
         "Low": 351.299988,
         "Close": 387.790009,
         "Adj Close": 387.790009,
         "Volume": 96561100,
         "_deepnote_index_column": 1
        },
        {
         "Date": "2020-09-25",
         "Open": 393.470001,
         "High": 408.730011,
         "Low": 391.299988,
         "Close": 407.339996,
         "Adj Close": 407.339996,
         "Volume": 67208500,
         "_deepnote_index_column": 2
        },
        {
         "Date": "2020-09-28",
         "Open": 424.619995,
         "High": 428.079987,
         "Low": 415.549988,
         "Close": 421.200012,
         "Adj Close": 421.200012,
         "Volume": 49719600,
         "_deepnote_index_column": 3
        },
        {
         "Date": "2020-09-29",
         "Open": 416,
         "High": 428.5,
         "Low": 411.600006,
         "Close": 419.070007,
         "Adj Close": 419.070007,
         "Volume": 50219300,
         "_deepnote_index_column": 4
        }
       ],
       "rows_bottom": null
      },
      "text/plain": "         Date        Open        High         Low       Close   Adj Close  \\\n0  2020-09-23  405.160004  412.149994  375.880005  380.359985  380.359985   \n1  2020-09-24  363.799988  399.500000  351.299988  387.790009  387.790009   \n2  2020-09-25  393.470001  408.730011  391.299988  407.339996  407.339996   \n3  2020-09-28  424.619995  428.079987  415.549988  421.200012  421.200012   \n4  2020-09-29  416.000000  428.500000  411.600006  419.070007  419.070007   \n\n     Volume  \n0  95074200  \n1  96561100  \n2  67208500  \n3  49719600  \n4  50219300  ",
      "text/html": "<div>\n<style scoped>\n    .dataframe tbody tr th:only-of-type {\n        vertical-align: middle;\n    }\n\n    .dataframe tbody tr th {\n        vertical-align: top;\n    }\n\n    .dataframe thead th {\n        text-align: right;\n    }\n</style>\n<table border=\"1\" class=\"dataframe\">\n  <thead>\n    <tr style=\"text-align: right;\">\n      <th></th>\n      <th>Date</th>\n      <th>Open</th>\n      <th>High</th>\n      <th>Low</th>\n      <th>Close</th>\n      <th>Adj Close</th>\n      <th>Volume</th>\n    </tr>\n  </thead>\n  <tbody>\n    <tr>\n      <th>0</th>\n      <td>2020-09-23</td>\n      <td>405.160004</td>\n      <td>412.149994</td>\n      <td>375.880005</td>\n      <td>380.359985</td>\n      <td>380.359985</td>\n      <td>95074200</td>\n    </tr>\n    <tr>\n      <th>1</th>\n      <td>2020-09-24</td>\n      <td>363.799988</td>\n      <td>399.500000</td>\n      <td>351.299988</td>\n      <td>387.790009</td>\n      <td>387.790009</td>\n      <td>96561100</td>\n    </tr>\n    <tr>\n      <th>2</th>\n      <td>2020-09-25</td>\n      <td>393.470001</td>\n      <td>408.730011</td>\n      <td>391.299988</td>\n      <td>407.339996</td>\n      <td>407.339996</td>\n      <td>67208500</td>\n    </tr>\n    <tr>\n      <th>3</th>\n      <td>2020-09-28</td>\n      <td>424.619995</td>\n      <td>428.079987</td>\n      <td>415.549988</td>\n      <td>421.200012</td>\n      <td>421.200012</td>\n      <td>49719600</td>\n    </tr>\n    <tr>\n      <th>4</th>\n      <td>2020-09-29</td>\n      <td>416.000000</td>\n      <td>428.500000</td>\n      <td>411.600006</td>\n      <td>419.070007</td>\n      <td>419.070007</td>\n      <td>50219300</td>\n    </tr>\n  </tbody>\n</table>\n</div>"
     },
     "metadata": {}
    }
   ]
  },
  {
   "cell_type": "markdown",
   "source": "## Exploratory Data Analysis (EDA)",
   "metadata": {
    "tags": [],
    "is_collapsed": false,
    "cell_id": "00008-966dbce3-34a9-4d7f-9fbf-420abc54c35e",
    "deepnote_cell_type": "text-cell-h2"
   }
  },
  {
   "cell_type": "markdown",
   "source": "Before we can start to do any kind of analysis, we must understand the data we are working with. So an exploratory data analysis must be performed on the data",
   "metadata": {
    "tags": [],
    "cell_id": "00009-fa590c6a-9c21-43d8-b61d-83eb5a9251d9",
    "deepnote_cell_type": "markdown"
   }
  },
  {
   "cell_type": "markdown",
   "source": "### Question 1",
   "metadata": {
    "tags": [],
    "is_collapsed": false,
    "cell_id": "00010-fad66a16-2c20-486c-ba8b-de0620ee154a",
    "deepnote_cell_type": "text-cell-h3"
   }
  },
  {
   "cell_type": "markdown",
   "source": "How many columns do we have, what kind of information is contained on those and what does it mean for the business problem?",
   "metadata": {
    "tags": [],
    "cell_id": "00011-fc2a230d-cce6-4c87-b5a9-0765867c9964",
    "deepnote_cell_type": "markdown"
   }
  },
  {
   "cell_type": "code",
   "metadata": {
    "tags": [],
    "cell_id": "00011-130f11ca-14ca-47e6-9ee7-0447f8c9b7c3",
    "deepnote_to_be_reexecuted": false,
    "source_hash": "7376fd01",
    "execution_start": 1632429906292,
    "execution_millis": 11,
    "deepnote_cell_type": "code"
   },
   "source": "data_tesla.info()",
   "execution_count": 4,
   "outputs": [
    {
     "name": "stdout",
     "text": "<class 'pandas.core.frame.DataFrame'>\nRangeIndex: 252 entries, 0 to 251\nData columns (total 7 columns):\n #   Column     Non-Null Count  Dtype  \n---  ------     --------------  -----  \n 0   Date       252 non-null    object \n 1   Open       252 non-null    float64\n 2   High       252 non-null    float64\n 3   Low        252 non-null    float64\n 4   Close      252 non-null    float64\n 5   Adj Close  252 non-null    float64\n 6   Volume     252 non-null    int64  \ndtypes: float64(5), int64(1), object(1)\nmemory usage: 13.9+ KB\n",
     "output_type": "stream"
    }
   ]
  },
  {
   "cell_type": "markdown",
   "source": "**Answer**",
   "metadata": {
    "tags": [],
    "cell_id": "00013-3acb5d73-5a5c-4f7b-adfb-f6482afdd6d1",
    "deepnote_cell_type": "markdown"
   }
  },
  {
   "cell_type": "markdown",
   "source": "### Question 2",
   "metadata": {
    "tags": [],
    "is_collapsed": false,
    "cell_id": "00011-42f359f7-df25-4384-b548-b6ad37b9184b",
    "deepnote_cell_type": "text-cell-h3"
   }
  },
  {
   "cell_type": "code",
   "metadata": {
    "tags": [],
    "cell_id": "00013-6e65e4ed-cb2b-4031-9a45-a51271702ed0",
    "deepnote_to_be_reexecuted": false,
    "source_hash": "4d7b76d6",
    "execution_start": 1632429906367,
    "execution_millis": 32,
    "deepnote_cell_type": "code"
   },
   "source": "data_tesla.describe()",
   "execution_count": 5,
   "outputs": [
    {
     "output_type": "execute_result",
     "execution_count": 5,
     "data": {
      "application/vnd.deepnote.dataframe.v2+json": {
       "row_count": 8,
       "column_count": 6,
       "columns": [
        {
         "name": "Open",
         "dtype": "float64",
         "stats": {
          "unique_count": 8,
          "nan_count": 0,
          "min": "122.49234921025642",
          "max": "891.380005",
          "histogram": [
           {
            "bin_start": 122.49234921025642,
            "bin_end": 199.38111478923076,
            "count": 1
           },
           {
            "bin_start": 199.38111478923076,
            "bin_end": 276.2698803682051,
            "count": 1
           },
           {
            "bin_start": 276.2698803682051,
            "bin_end": 353.1586459471795,
            "count": 0
           },
           {
            "bin_start": 353.1586459471795,
            "bin_end": 430.04741152615384,
            "count": 1
           },
           {
            "bin_start": 430.04741152615384,
            "bin_end": 506.9361771051282,
            "count": 0
           },
           {
            "bin_start": 506.9361771051282,
            "bin_end": 583.8249426841026,
            "count": 0
           },
           {
            "bin_start": 583.8249426841026,
            "bin_end": 660.7137082630769,
            "count": 2
           },
           {
            "bin_start": 660.7137082630769,
            "bin_end": 737.6024738420513,
            "count": 2
           },
           {
            "bin_start": 737.6024738420513,
            "bin_end": 814.4912394210256,
            "count": 0
           },
           {
            "bin_start": 814.4912394210256,
            "bin_end": 891.380005,
            "count": 1
           }
          ]
         }
        },
        {
         "name": "High",
         "dtype": "float64",
         "stats": {
          "unique_count": 8,
          "nan_count": 0,
          "min": "123.81866029220606",
          "max": "900.400024",
          "histogram": [
           {
            "bin_start": 123.81866029220606,
            "bin_end": 201.47679666298546,
            "count": 1
           },
           {
            "bin_start": 201.47679666298546,
            "bin_end": 279.13493303376487,
            "count": 1
           },
           {
            "bin_start": 279.13493303376487,
            "bin_end": 356.79306940454427,
            "count": 0
           },
           {
            "bin_start": 356.79306940454427,
            "bin_end": 434.4512057753237,
            "count": 1
           },
           {
            "bin_start": 434.4512057753237,
            "bin_end": 512.109342146103,
            "count": 0
           },
           {
            "bin_start": 512.109342146103,
            "bin_end": 589.7674785168824,
            "count": 0
           },
           {
            "bin_start": 589.7674785168824,
            "bin_end": 667.4256148876618,
            "count": 2
           },
           {
            "bin_start": 667.4256148876618,
            "bin_end": 745.0837512584412,
            "count": 2
           },
           {
            "bin_start": 745.0837512584412,
            "bin_end": 822.7418876292206,
            "count": 0
           },
           {
            "bin_start": 822.7418876292206,
            "bin_end": 900.400024,
            "count": 1
           }
          ]
         }
        },
        {
         "name": "Low",
         "dtype": "float64",
         "stats": {
          "unique_count": 8,
          "nan_count": 0,
          "min": "120.68767538611351",
          "max": "871.599976",
          "histogram": [
           {
            "bin_start": 120.68767538611351,
            "bin_end": 195.77890544750215,
            "count": 1
           },
           {
            "bin_start": 195.77890544750215,
            "bin_end": 270.8701355088908,
            "count": 1
           },
           {
            "bin_start": 270.8701355088908,
            "bin_end": 345.96136557027944,
            "count": 0
           },
           {
            "bin_start": 345.96136557027944,
            "bin_end": 421.05259563166805,
            "count": 1
           },
           {
            "bin_start": 421.05259563166805,
            "bin_end": 496.14382569305667,
            "count": 0
           },
           {
            "bin_start": 496.14382569305667,
            "bin_end": 571.2350557544454,
            "count": 0
           },
           {
            "bin_start": 571.2350557544454,
            "bin_end": 646.326285815834,
            "count": 2
           },
           {
            "bin_start": 646.326285815834,
            "bin_end": 721.4175158772226,
            "count": 2
           },
           {
            "bin_start": 721.4175158772226,
            "bin_end": 796.5087459386112,
            "count": 0
           },
           {
            "bin_start": 796.5087459386112,
            "bin_end": 871.599976,
            "count": 1
           }
          ]
         }
        },
        {
         "name": "Close",
         "dtype": "float64",
         "stats": {
          "unique_count": 8,
          "nan_count": 0,
          "min": "122.60927795309973",
          "max": "883.090027",
          "histogram": [
           {
            "bin_start": 122.60927795309973,
            "bin_end": 198.65735285778976,
            "count": 1
           },
           {
            "bin_start": 198.65735285778976,
            "bin_end": 274.70542776247976,
            "count": 1
           },
           {
            "bin_start": 274.70542776247976,
            "bin_end": 350.7535026671698,
            "count": 0
           },
           {
            "bin_start": 350.7535026671698,
            "bin_end": 426.80157757185987,
            "count": 1
           },
           {
            "bin_start": 426.80157757185987,
            "bin_end": 502.84965247654986,
            "count": 0
           },
           {
            "bin_start": 502.84965247654986,
            "bin_end": 578.8977273812399,
            "count": 0
           },
           {
            "bin_start": 578.8977273812399,
            "bin_end": 654.94580228593,
            "count": 2
           },
           {
            "bin_start": 654.94580228593,
            "bin_end": 730.99387719062,
            "count": 2
           },
           {
            "bin_start": 730.99387719062,
            "bin_end": 807.04195209531,
            "count": 0
           },
           {
            "bin_start": 807.04195209531,
            "bin_end": 883.090027,
            "count": 1
           }
          ]
         }
        },
        {
         "name": "Adj Close",
         "dtype": "float64",
         "stats": {
          "unique_count": 8,
          "nan_count": 0,
          "min": "122.60927795309973",
          "max": "883.090027",
          "histogram": [
           {
            "bin_start": 122.60927795309973,
            "bin_end": 198.65735285778976,
            "count": 1
           },
           {
            "bin_start": 198.65735285778976,
            "bin_end": 274.70542776247976,
            "count": 1
           },
           {
            "bin_start": 274.70542776247976,
            "bin_end": 350.7535026671698,
            "count": 0
           },
           {
            "bin_start": 350.7535026671698,
            "bin_end": 426.80157757185987,
            "count": 1
           },
           {
            "bin_start": 426.80157757185987,
            "bin_end": 502.84965247654986,
            "count": 0
           },
           {
            "bin_start": 502.84965247654986,
            "bin_end": 578.8977273812399,
            "count": 0
           },
           {
            "bin_start": 578.8977273812399,
            "bin_end": 654.94580228593,
            "count": 2
           },
           {
            "bin_start": 654.94580228593,
            "bin_end": 730.99387719062,
            "count": 2
           },
           {
            "bin_start": 730.99387719062,
            "bin_end": 807.04195209531,
            "count": 0
           },
           {
            "bin_start": 807.04195209531,
            "bin_end": 883.090027,
            "count": 1
           }
          ]
         }
        },
        {
         "name": "Volume",
         "dtype": "float64",
         "stats": {
          "unique_count": 8,
          "nan_count": 0,
          "min": "252.0",
          "max": "222126200.0",
          "histogram": [
           {
            "bin_start": 252,
            "bin_end": 22212846.8,
            "count": 4
           },
           {
            "bin_start": 22212846.8,
            "bin_end": 44425441.6,
            "count": 3
           },
           {
            "bin_start": 44425441.6,
            "bin_end": 66638036.400000006,
            "count": 0
           },
           {
            "bin_start": 66638036.400000006,
            "bin_end": 88850631.2,
            "count": 0
           },
           {
            "bin_start": 88850631.2,
            "bin_end": 111063226,
            "count": 0
           },
           {
            "bin_start": 111063226,
            "bin_end": 133275820.80000001,
            "count": 0
           },
           {
            "bin_start": 133275820.80000001,
            "bin_end": 155488415.6,
            "count": 0
           },
           {
            "bin_start": 155488415.6,
            "bin_end": 177701010.4,
            "count": 0
           },
           {
            "bin_start": 177701010.4,
            "bin_end": 199913605.20000002,
            "count": 0
           },
           {
            "bin_start": 199913605.20000002,
            "bin_end": 222126200,
            "count": 1
           }
          ]
         }
        },
        {
         "name": "_deepnote_index_column",
         "dtype": "object"
        }
       ],
       "rows_top": [
        {
         "Open": 252,
         "High": 252,
         "Low": 252,
         "Close": 252,
         "Adj Close": 252,
         "Volume": 252,
         "_deepnote_index_column": "count"
        },
        {
         "Open": 645.6091130595238,
         "High": 658.3281735515873,
         "Low": 631.4496433531747,
         "Close": 645.7130544563491,
         "Adj Close": 645.7130544563491,
         "Volume": 32968656.23809524,
         "_deepnote_index_column": "mean"
        },
        {
         "Open": 122.49234921025642,
         "High": 123.81866029220606,
         "Low": 120.68767538611351,
         "Close": 122.60927795309973,
         "Adj Close": 122.60927795309973,
         "Volume": 19481113.09854284,
         "_deepnote_index_column": "std"
        },
        {
         "Open": 363.799988,
         "High": 399.5,
         "Low": 351.299988,
         "Close": 380.359985,
         "Adj Close": 380.359985,
         "Volume": 9800600,
         "_deepnote_index_column": "min"
        },
        {
         "Open": 600.2224885,
         "High": 611.3424835000001,
         "Low": 581.82249475,
         "Close": 598.97499075,
         "Adj Close": 598.97499075,
         "Volume": 21402100,
         "_deepnote_index_column": "25%"
        },
        {
         "Open": 666.9150085,
         "High": 680.9949955,
         "Low": 650.649994,
         "Close": 663.61499,
         "Adj Close": 663.61499,
         "Volume": 28973400,
         "_deepnote_index_column": "50%"
        },
        {
         "Open": 716.35499575,
         "High": 727.6800075,
         "Low": 704.4400177499999,
         "Close": 715.2649994999999,
         "Adj Close": 715.2649994999999,
         "Volume": 39605350,
         "_deepnote_index_column": "75%"
        },
        {
         "Open": 891.380005,
         "High": 900.400024,
         "Low": 871.599976,
         "Close": 883.090027,
         "Adj Close": 883.090027,
         "Volume": 222126200,
         "_deepnote_index_column": "max"
        }
       ],
       "rows_bottom": null
      },
      "text/plain": "             Open        High         Low       Close   Adj Close  \\\ncount  252.000000  252.000000  252.000000  252.000000  252.000000   \nmean   645.609113  658.328174  631.449643  645.713054  645.713054   \nstd    122.492349  123.818660  120.687675  122.609278  122.609278   \nmin    363.799988  399.500000  351.299988  380.359985  380.359985   \n25%    600.222489  611.342484  581.822495  598.974991  598.974991   \n50%    666.915008  680.994995  650.649994  663.614990  663.614990   \n75%    716.354996  727.680007  704.440018  715.264999  715.264999   \nmax    891.380005  900.400024  871.599976  883.090027  883.090027   \n\n             Volume  \ncount  2.520000e+02  \nmean   3.296866e+07  \nstd    1.948111e+07  \nmin    9.800600e+06  \n25%    2.140210e+07  \n50%    2.897340e+07  \n75%    3.960535e+07  \nmax    2.221262e+08  ",
      "text/html": "<div>\n<style scoped>\n    .dataframe tbody tr th:only-of-type {\n        vertical-align: middle;\n    }\n\n    .dataframe tbody tr th {\n        vertical-align: top;\n    }\n\n    .dataframe thead th {\n        text-align: right;\n    }\n</style>\n<table border=\"1\" class=\"dataframe\">\n  <thead>\n    <tr style=\"text-align: right;\">\n      <th></th>\n      <th>Open</th>\n      <th>High</th>\n      <th>Low</th>\n      <th>Close</th>\n      <th>Adj Close</th>\n      <th>Volume</th>\n    </tr>\n  </thead>\n  <tbody>\n    <tr>\n      <th>count</th>\n      <td>252.000000</td>\n      <td>252.000000</td>\n      <td>252.000000</td>\n      <td>252.000000</td>\n      <td>252.000000</td>\n      <td>2.520000e+02</td>\n    </tr>\n    <tr>\n      <th>mean</th>\n      <td>645.609113</td>\n      <td>658.328174</td>\n      <td>631.449643</td>\n      <td>645.713054</td>\n      <td>645.713054</td>\n      <td>3.296866e+07</td>\n    </tr>\n    <tr>\n      <th>std</th>\n      <td>122.492349</td>\n      <td>123.818660</td>\n      <td>120.687675</td>\n      <td>122.609278</td>\n      <td>122.609278</td>\n      <td>1.948111e+07</td>\n    </tr>\n    <tr>\n      <th>min</th>\n      <td>363.799988</td>\n      <td>399.500000</td>\n      <td>351.299988</td>\n      <td>380.359985</td>\n      <td>380.359985</td>\n      <td>9.800600e+06</td>\n    </tr>\n    <tr>\n      <th>25%</th>\n      <td>600.222489</td>\n      <td>611.342484</td>\n      <td>581.822495</td>\n      <td>598.974991</td>\n      <td>598.974991</td>\n      <td>2.140210e+07</td>\n    </tr>\n    <tr>\n      <th>50%</th>\n      <td>666.915008</td>\n      <td>680.994995</td>\n      <td>650.649994</td>\n      <td>663.614990</td>\n      <td>663.614990</td>\n      <td>2.897340e+07</td>\n    </tr>\n    <tr>\n      <th>75%</th>\n      <td>716.354996</td>\n      <td>727.680007</td>\n      <td>704.440018</td>\n      <td>715.264999</td>\n      <td>715.264999</td>\n      <td>3.960535e+07</td>\n    </tr>\n    <tr>\n      <th>max</th>\n      <td>891.380005</td>\n      <td>900.400024</td>\n      <td>871.599976</td>\n      <td>883.090027</td>\n      <td>883.090027</td>\n      <td>2.221262e+08</td>\n    </tr>\n  </tbody>\n</table>\n</div>"
     },
     "metadata": {}
    }
   ]
  },
  {
   "cell_type": "markdown",
   "source": "**Answer**",
   "metadata": {
    "tags": [],
    "cell_id": "00016-f7fb8243-ab62-4a1d-8db2-d098452107b2",
    "deepnote_cell_type": "markdown"
   }
  },
  {
   "cell_type": "markdown",
   "source": "### Question 3",
   "metadata": {
    "tags": [],
    "is_collapsed": false,
    "cell_id": "00011-03ca7f06-9660-42fe-b3a6-45580c6053f2",
    "deepnote_cell_type": "text-cell-h3"
   }
  },
  {
   "cell_type": "markdown",
   "source": "What macro trends can you observe on the data?",
   "metadata": {
    "tags": [],
    "cell_id": "00011-9c6f7622-8b67-43c7-bc43-adba2961fb2d",
    "deepnote_cell_type": "markdown"
   }
  },
  {
   "cell_type": "code",
   "metadata": {
    "tags": [],
    "cell_id": "00012-cebbaebe-4025-4b5d-b8b5-ba91273157f6",
    "deepnote_to_be_reexecuted": false,
    "source_hash": "4d0e1bf6",
    "execution_start": 1632429906454,
    "execution_millis": 239,
    "deepnote_cell_type": "code"
   },
   "source": "font = {'family': 'serif',\n        'color':  'darkred',\n        'weight': 'normal',\n        'size': 16,\n        }\n\nplt.plot(data_tesla['Open'],label='Open')\nplt.plot(data_tesla['Close'],label='Close')\nplt.plot(data_tesla['High'],label='High')\nplt.plot(data_tesla['Low'],label='Low')\n#plt.xlim(left = 0, right=250)\nplt.ylim(top = 900, bottom=400)\nplt.title('Tesla (TSLA) Stock Price', fontdict=font)\nplt.xlabel('Number of Records', fontdict=font)\nplt.ylabel('Price ($)', fontdict=font)\nplt.legend(title='Measure: ')\n",
   "execution_count": 6,
   "outputs": [
    {
     "output_type": "execute_result",
     "execution_count": 6,
     "data": {
      "text/plain": "<matplotlib.legend.Legend at 0x7fcf76e0d8d0>"
     },
     "metadata": {}
    },
    {
     "data": {
      "text/plain": "<Figure size 432x288 with 1 Axes>",
      "image/png": "[encoded data removed]"
     },
     "metadata": {
      "needs_background": "light",
      "image/png": {
       "width": 396,
       "height": 288
      }
     },
     "output_type": "display_data"
    }
   ]
  },
  {
   "cell_type": "markdown",
   "source": "**Answer**",
   "metadata": {
    "tags": [],
    "cell_id": "00020-f2f49dd3-c2d3-4013-b5d3-855f15df2d26",
    "deepnote_cell_type": "markdown"
   }
  },
  {
   "cell_type": "markdown",
   "source": "## Extract, Transform and Load (ETL)",
   "metadata": {
    "tags": [],
    "is_collapsed": false,
    "cell_id": "00021-6c5ccc7a-185a-4f8f-be04-f54be44facdb",
    "deepnote_cell_type": "text-cell-h2"
   }
  },
  {
   "cell_type": "markdown",
   "source": "## Data Augmentation",
   "metadata": {
    "tags": [],
    "is_collapsed": false,
    "cell_id": "00022-1fbc2795-cec9-4817-9bf3-78f96a106a98",
    "deepnote_cell_type": "text-cell-h2"
   }
  },
  {
   "cell_type": "markdown",
   "source": "As only the recorded information is provided, it would be useful to add information about several calculated features",
   "metadata": {
    "tags": [],
    "cell_id": "00023-73f7f995-af0d-43f2-9b69-b7c97ba61aee",
    "deepnote_cell_type": "markdown"
   }
  },
  {
   "cell_type": "markdown",
   "source": "### Question 4",
   "metadata": {
    "tags": [],
    "is_collapsed": false,
    "cell_id": "00024-037def4d-3420-43aa-aaef-521ee28806e3",
    "deepnote_cell_type": "text-cell-h3"
   }
  },
  {
   "cell_type": "markdown",
   "source": "Calculate the average price of the stock during the day",
   "metadata": {
    "tags": [],
    "cell_id": "00025-98fd4589-cbda-4a18-8e5f-93a3c08c646b",
    "deepnote_cell_type": "markdown"
   }
  },
  {
   "cell_type": "code",
   "metadata": {
    "tags": [],
    "cell_id": "00026-c8fc06c3-0fe2-450e-8b7f-60a000028357",
    "deepnote_to_be_reexecuted": false,
    "source_hash": "9b9eec1f",
    "execution_start": 1632429906695,
    "execution_millis": 6,
    "deepnote_cell_type": "code"
   },
   "source": "data_tesla['Average Price'] = (data_tesla['High']+ data_tesla['Low'])/2",
   "execution_count": 7,
   "outputs": []
  },
  {
   "cell_type": "code",
   "metadata": {
    "tags": [],
    "cell_id": "00027-1ec40fc2-10d2-4ddc-9c68-a55ec25019d8",
    "deepnote_to_be_reexecuted": false,
    "source_hash": "121e3701",
    "execution_start": 1632429906718,
    "execution_millis": 55,
    "deepnote_cell_type": "code"
   },
   "source": "data_tesla[['Average Price']].describe()",
   "execution_count": 8,
   "outputs": [
    {
     "output_type": "execute_result",
     "execution_count": 8,
     "data": {
      "application/vnd.deepnote.dataframe.v2+json": {
       "row_count": 8,
       "column_count": 1,
       "columns": [
        {
         "name": "Average Price",
         "dtype": "float64",
         "stats": {
          "unique_count": 8,
          "nan_count": 0,
          "min": "122.04359690872444",
          "max": "883.75",
          "histogram": [
           {
            "bin_start": 122.04359690872444,
            "bin_end": 198.21423721785197,
            "count": 1
           },
           {
            "bin_start": 198.21423721785197,
            "bin_end": 274.38487752697955,
            "count": 1
           },
           {
            "bin_start": 274.38487752697955,
            "bin_end": 350.5555178361071,
            "count": 0
           },
           {
            "bin_start": 350.5555178361071,
            "bin_end": 426.72615814523465,
            "count": 1
           },
           {
            "bin_start": 426.72615814523465,
            "bin_end": 502.89679845436217,
            "count": 0
           },
           {
            "bin_start": 502.89679845436217,
            "bin_end": 579.0674387634897,
            "count": 0
           },
           {
            "bin_start": 579.0674387634897,
            "bin_end": 655.2380790726173,
            "count": 2
           },
           {
            "bin_start": 655.2380790726173,
            "bin_end": 731.4087193817448,
            "count": 2
           },
           {
            "bin_start": 731.4087193817448,
            "bin_end": 807.5793596908724,
            "count": 0
           },
           {
            "bin_start": 807.5793596908724,
            "bin_end": 883.75,
            "count": 1
           }
          ]
         }
        },
        {
         "name": "_deepnote_index_column",
         "dtype": "object"
        }
       ],
       "rows_top": [
        {
         "Average Price": 252,
         "_deepnote_index_column": "count"
        },
        {
         "Average Price": 644.888908452381,
         "_deepnote_index_column": "mean"
        },
        {
         "Average Price": 122.04359690872444,
         "_deepnote_index_column": "std"
        },
        {
         "Average Price": 375.399994,
         "_deepnote_index_column": "min"
        },
        {
         "Average Price": 593.6162487500001,
         "_deepnote_index_column": "25%"
        },
        {
         "Average Price": 665.9850005000001,
         "_deepnote_index_column": "50%"
        },
        {
         "Average Price": 716.3637465,
         "_deepnote_index_column": "75%"
        },
        {
         "Average Price": 883.75,
         "_deepnote_index_column": "max"
        }
       ],
       "rows_bottom": null
      },
      "text/plain": "       Average Price\ncount     252.000000\nmean      644.888908\nstd       122.043597\nmin       375.399994\n25%       593.616249\n50%       665.985001\n75%       716.363747\nmax       883.750000",
      "text/html": "<div>\n<style scoped>\n    .dataframe tbody tr th:only-of-type {\n        vertical-align: middle;\n    }\n\n    .dataframe tbody tr th {\n        vertical-align: top;\n    }\n\n    .dataframe thead th {\n        text-align: right;\n    }\n</style>\n<table border=\"1\" class=\"dataframe\">\n  <thead>\n    <tr style=\"text-align: right;\">\n      <th></th>\n      <th>Average Price</th>\n    </tr>\n  </thead>\n  <tbody>\n    <tr>\n      <th>count</th>\n      <td>252.000000</td>\n    </tr>\n    <tr>\n      <th>mean</th>\n      <td>644.888908</td>\n    </tr>\n    <tr>\n      <th>std</th>\n      <td>122.043597</td>\n    </tr>\n    <tr>\n      <th>min</th>\n      <td>375.399994</td>\n    </tr>\n    <tr>\n      <th>25%</th>\n      <td>593.616249</td>\n    </tr>\n    <tr>\n      <th>50%</th>\n      <td>665.985001</td>\n    </tr>\n    <tr>\n      <th>75%</th>\n      <td>716.363747</td>\n    </tr>\n    <tr>\n      <th>max</th>\n      <td>883.750000</td>\n    </tr>\n  </tbody>\n</table>\n</div>"
     },
     "metadata": {}
    }
   ]
  },
  {
   "cell_type": "markdown",
   "source": "### Question 5",
   "metadata": {
    "tags": [],
    "is_collapsed": false,
    "cell_id": "00028-ab2a1ed5-63f6-4e27-b509-2e0da6d539dd",
    "deepnote_cell_type": "text-cell-h3"
   }
  },
  {
   "cell_type": "markdown",
   "source": "Calculate the absolute value of the price variation over the day",
   "metadata": {
    "tags": [],
    "cell_id": "00029-40fdb81a-2a06-43a4-aa4e-a299db66ddae",
    "deepnote_cell_type": "markdown"
   }
  },
  {
   "cell_type": "code",
   "metadata": {
    "tags": [],
    "cell_id": "00030-00f105cb-9dee-40aa-9c92-a5050367bfcf",
    "deepnote_to_be_reexecuted": false,
    "source_hash": "564b8383",
    "execution_start": 1632429906763,
    "execution_millis": 0,
    "deepnote_cell_type": "code"
   },
   "source": "data_tesla['Abs Variation'] = abs(data_tesla['High']- data_tesla['Low'])",
   "execution_count": 9,
   "outputs": []
  },
  {
   "cell_type": "code",
   "metadata": {
    "tags": [],
    "cell_id": "00031-acf44838-0758-4789-bcb4-54bc1ad06b3e",
    "deepnote_to_be_reexecuted": false,
    "source_hash": "859ca8ae",
    "execution_start": 1632429906763,
    "execution_millis": 10,
    "deepnote_cell_type": "code"
   },
   "source": "data_tesla['Abs Variation'].describe()",
   "execution_count": 10,
   "outputs": [
    {
     "output_type": "execute_result",
     "execution_count": 10,
     "data": {
      "text/plain": "count    252.000000\nmean      26.878530\nstd       14.648995\nmin        8.120025\n25%       16.037491\n50%       23.869994\n75%       32.795029\nmax       94.609985\nName: Abs Variation, dtype: float64"
     },
     "metadata": {}
    }
   ]
  },
  {
   "cell_type": "markdown",
   "source": "### Question 6",
   "metadata": {
    "tags": [],
    "is_collapsed": false,
    "cell_id": "00032-63e4e036-945a-40cf-8f57-fa0cacf78a45",
    "deepnote_cell_type": "text-cell-h3"
   }
  },
  {
   "cell_type": "markdown",
   "source": "It can also be added an indicator that shows if the stock has had a net positive (1) or negative (0) change over the day",
   "metadata": {
    "tags": [],
    "cell_id": "00033-0702b674-835d-4f41-8aed-e2bf830d88a1",
    "deepnote_cell_type": "markdown"
   }
  },
  {
   "cell_type": "code",
   "source": "# First, we need to calculate the change on the net variation over the day\ndata_tesla['Variation over day']= data_tesla['Close'] - data_tesla['Open']\n# Then, a function is created to indicate the variation\ndef indicate_variation(x):\n    if x > 0:\n        return 1\n    else:\n        return 0\n\ndata_tesla['Indicator Variation'] = data_tesla['Variation over day'].apply(lambda x: indicate_variation(x))\ndata_tesla[['Indicator Variation','Variation over day']].head()",
   "metadata": {
    "tags": [],
    "cell_id": "00034-5602b530-7c88-4bd6-ab81-95b5a6cd94fd",
    "deepnote_to_be_reexecuted": false,
    "source_hash": "82d7c240",
    "execution_start": 1632429906764,
    "execution_millis": 9,
    "deepnote_cell_type": "code"
   },
   "outputs": [
    {
     "output_type": "execute_result",
     "execution_count": 11,
     "data": {
      "application/vnd.deepnote.dataframe.v2+json": {
       "row_count": 5,
       "column_count": 2,
       "columns": [
        {
         "name": "Indicator Variation",
         "dtype": "int64",
         "stats": {
          "unique_count": 2,
          "nan_count": 0,
          "min": "0",
          "max": "1",
          "histogram": [
           {
            "bin_start": 0,
            "bin_end": 0.1,
            "count": 2
           },
           {
            "bin_start": 0.1,
            "bin_end": 0.2,
            "count": 0
           },
           {
            "bin_start": 0.2,
            "bin_end": 0.30000000000000004,
            "count": 0
           },
           {
            "bin_start": 0.30000000000000004,
            "bin_end": 0.4,
            "count": 0
           },
           {
            "bin_start": 0.4,
            "bin_end": 0.5,
            "count": 0
           },
           {
            "bin_start": 0.5,
            "bin_end": 0.6000000000000001,
            "count": 0
           },
           {
            "bin_start": 0.6000000000000001,
            "bin_end": 0.7000000000000001,
            "count": 0
           },
           {
            "bin_start": 0.7000000000000001,
            "bin_end": 0.8,
            "count": 0
           },
           {
            "bin_start": 0.8,
            "bin_end": 0.9,
            "count": 0
           },
           {
            "bin_start": 0.9,
            "bin_end": 1,
            "count": 3
           }
          ]
         }
        },
        {
         "name": "Variation over day",
         "dtype": "float64",
         "stats": {
          "unique_count": 5,
          "nan_count": 0,
          "min": "-24.80001900000002",
          "max": "23.990021000000013",
          "histogram": [
           {
            "bin_start": -24.80001900000002,
            "bin_end": -19.92101500000002,
            "count": 1
           },
           {
            "bin_start": -19.92101500000002,
            "bin_end": -15.042011000000013,
            "count": 0
           },
           {
            "bin_start": -15.042011000000013,
            "bin_end": -10.16300700000001,
            "count": 0
           },
           {
            "bin_start": -10.16300700000001,
            "bin_end": -5.284003000000006,
            "count": 0
           },
           {
            "bin_start": -5.284003000000006,
            "bin_end": -0.40499900000000366,
            "count": 1
           },
           {
            "bin_start": -0.40499900000000366,
            "bin_end": 4.474005000000002,
            "count": 1
           },
           {
            "bin_start": 4.474005000000002,
            "bin_end": 9.353009000000007,
            "count": 0
           },
           {
            "bin_start": 9.353009000000007,
            "bin_end": 14.23201300000001,
            "count": 1
           },
           {
            "bin_start": 14.23201300000001,
            "bin_end": 19.11101700000001,
            "count": 0
           },
           {
            "bin_start": 19.11101700000001,
            "bin_end": 23.990021000000013,
            "count": 1
           }
          ]
         }
        },
        {
         "name": "_deepnote_index_column",
         "dtype": "int64"
        }
       ],
       "rows_top": [
        {
         "Indicator Variation": 0,
         "Variation over day": -24.80001900000002,
         "_deepnote_index_column": 0
        },
        {
         "Indicator Variation": 1,
         "Variation over day": 23.990021000000013,
         "_deepnote_index_column": 1
        },
        {
         "Indicator Variation": 1,
         "Variation over day": 13.86999499999996,
         "_deepnote_index_column": 2
        },
        {
         "Indicator Variation": 0,
         "Variation over day": -3.419983000000002,
         "_deepnote_index_column": 3
        },
        {
         "Indicator Variation": 1,
         "Variation over day": 3.0700069999999755,
         "_deepnote_index_column": 4
        }
       ],
       "rows_bottom": null
      },
      "text/plain": "   Indicator Variation  Variation over day\n0                    0          -24.800019\n1                    1           23.990021\n2                    1           13.869995\n3                    0           -3.419983\n4                    1            3.070007",
      "text/html": "<div>\n<style scoped>\n    .dataframe tbody tr th:only-of-type {\n        vertical-align: middle;\n    }\n\n    .dataframe tbody tr th {\n        vertical-align: top;\n    }\n\n    .dataframe thead th {\n        text-align: right;\n    }\n</style>\n<table border=\"1\" class=\"dataframe\">\n  <thead>\n    <tr style=\"text-align: right;\">\n      <th></th>\n      <th>Indicator Variation</th>\n      <th>Variation over day</th>\n    </tr>\n  </thead>\n  <tbody>\n    <tr>\n      <th>0</th>\n      <td>0</td>\n      <td>-24.800019</td>\n    </tr>\n    <tr>\n      <th>1</th>\n      <td>1</td>\n      <td>23.990021</td>\n    </tr>\n    <tr>\n      <th>2</th>\n      <td>1</td>\n      <td>13.869995</td>\n    </tr>\n    <tr>\n      <th>3</th>\n      <td>0</td>\n      <td>-3.419983</td>\n    </tr>\n    <tr>\n      <th>4</th>\n      <td>1</td>\n      <td>3.070007</td>\n    </tr>\n  </tbody>\n</table>\n</div>"
     },
     "metadata": {}
    }
   ],
   "execution_count": 11
  },
  {
   "cell_type": "markdown",
   "source": "## Data Transformation",
   "metadata": {
    "tags": [],
    "is_collapsed": false,
    "cell_id": "00036-08592a7e-a00e-4082-8068-28bc5beb01ce",
    "deepnote_cell_type": "text-cell-h2"
   }
  },
  {
   "cell_type": "markdown",
   "source": "But, there is still a problem, Python is not able to understand correctly the dates and some categories.",
   "metadata": {
    "tags": [],
    "cell_id": "00023-18cee4be-f7f4-4be5-a20e-e3475f68e61a",
    "deepnote_cell_type": "markdown"
   }
  },
  {
   "cell_type": "markdown",
   "source": "### Question 7",
   "metadata": {
    "tags": [],
    "is_collapsed": false,
    "cell_id": "00037-3c3b0f84-c6eb-455d-8585-527cee3e7996",
    "deepnote_cell_type": "text-cell-h3"
   }
  },
  {
   "cell_type": "markdown",
   "source": "Format the dates correctly, so the program can understand it correctly",
   "metadata": {
    "tags": [],
    "cell_id": "00038-05b9a333-a0e7-47bf-8e01-2be95951e81d",
    "deepnote_cell_type": "markdown"
   }
  },
  {
   "cell_type": "code",
   "source": "print(type(data_tesla['Date'][0]))",
   "metadata": {
    "tags": [],
    "cell_id": "00039-5e70b05b-722a-4e87-9050-1fea5a020ec9",
    "deepnote_to_be_reexecuted": false,
    "source_hash": "20426bcd",
    "execution_start": 1632429906771,
    "execution_millis": 9,
    "deepnote_cell_type": "code"
   },
   "outputs": [
    {
     "name": "stdout",
     "text": "<class 'str'>\n",
     "output_type": "stream"
    }
   ],
   "execution_count": 12
  },
  {
   "cell_type": "code",
   "source": "data_tesla['Date'] = pd.to_datetime(data_tesla['Date'])\ndata_tesla['Date'].head()",
   "metadata": {
    "tags": [],
    "cell_id": "00039-d85635d2-b268-4df4-a443-904b4b01ae08",
    "deepnote_to_be_reexecuted": false,
    "source_hash": "222e5ef3",
    "execution_start": 1632429906823,
    "execution_millis": 9,
    "deepnote_cell_type": "code"
   },
   "outputs": [
    {
     "output_type": "execute_result",
     "execution_count": 13,
     "data": {
      "text/plain": "0   2020-09-23\n1   2020-09-24\n2   2020-09-25\n3   2020-09-28\n4   2020-09-29\nName: Date, dtype: datetime64[ns]"
     },
     "metadata": {}
    }
   ],
   "execution_count": 13
  },
  {
   "cell_type": "code",
   "source": "print(type(data_tesla['Date'][0]))",
   "metadata": {
    "tags": [],
    "cell_id": "00041-917e6738-3ba8-4132-8c5d-a5c0547126c5",
    "deepnote_to_be_reexecuted": false,
    "source_hash": "20426bcd",
    "execution_start": 1632429906824,
    "execution_millis": 8,
    "deepnote_cell_type": "code"
   },
   "outputs": [
    {
     "name": "stdout",
     "text": "<class 'pandas._libs.tslibs.timestamps.Timestamp'>\n",
     "output_type": "stream"
    }
   ],
   "execution_count": 14
  },
  {
   "cell_type": "markdown",
   "source": "### Question 8",
   "metadata": {
    "tags": [],
    "is_collapsed": false,
    "cell_id": "00042-7e6c801c-6ffc-4568-9a57-4821da6d7e9b",
    "deepnote_cell_type": "text-cell-h3"
   }
  },
  {
   "cell_type": "markdown",
   "source": "Set the variable \"Indicator Variation\" as a categorical variable so python can understand that the number describes a category",
   "metadata": {
    "tags": [],
    "cell_id": "00043-54a19927-1af7-4716-a020-98251f91c2a9",
    "deepnote_cell_type": "markdown"
   }
  },
  {
   "cell_type": "code",
   "source": "data_tesla['Indicator Variation'] = data_tesla['Indicator Variation'].astype('category')\ndata_tesla['Indicator Variation'].head()",
   "metadata": {
    "tags": [],
    "cell_id": "00044-e5392260-20d3-4161-980b-3a0d1ecd584c",
    "deepnote_to_be_reexecuted": false,
    "source_hash": "460a5836",
    "execution_start": 1632430943738,
    "execution_millis": 9,
    "deepnote_cell_type": "code"
   },
   "outputs": [
    {
     "output_type": "execute_result",
     "execution_count": 15,
     "data": {
      "text/plain": "0    0\n1    1\n2    1\n3    0\n4    1\nName: Indicator Variation, dtype: category\nCategories (2, int64): [0, 1]"
     },
     "metadata": {}
    }
   ],
   "execution_count": 15
  },
  {
   "cell_type": "code",
   "source": "data_tesla['Indicator Variation'].cat.categories",
   "metadata": {
    "tags": [],
    "cell_id": "00045-6010a3fc-36c3-4854-a852-83d81b33003c",
    "deepnote_to_be_reexecuted": false,
    "source_hash": "4311ed4b",
    "execution_start": 1632431044559,
    "execution_millis": 4,
    "deepnote_cell_type": "code"
   },
   "outputs": [
    {
     "output_type": "execute_result",
     "execution_count": 16,
     "data": {
      "text/plain": "Int64Index([0, 1], dtype='int64')"
     },
     "metadata": {}
    }
   ],
   "execution_count": 16
  },
  {
   "cell_type": "markdown",
   "source": "## Data Visualization",
   "metadata": {
    "tags": [],
    "is_collapsed": false,
    "cell_id": "00046-653b96d0-1e5e-49b5-95bf-16e96a7bc9a2",
    "deepnote_cell_type": "text-cell-h2"
   }
  },
  {
   "cell_type": "markdown",
   "source": "### Question 9",
   "metadata": {
    "tags": [],
    "is_collapsed": false,
    "cell_id": "00047-e0b95e54-a402-41d1-a618-7f5517ae531a",
    "deepnote_cell_type": "text-cell-h3"
   }
  },
  {
   "cell_type": "markdown",
   "source": "Generate a visualization of average stock price over time",
   "metadata": {
    "tags": [],
    "cell_id": "00047-814fcf38-54a7-48b8-b961-c0540715a3ef",
    "deepnote_cell_type": "markdown"
   }
  },
  {
   "cell_type": "code",
   "source": "font = {'family': 'serif',\n        'color':  'darkred',\n        'weight': 'normal',\n        'size': 16,\n        }\n\nplt.plot(data_tesla['Date'],data_tesla['Average Price'],'r')\nplt.ylim(top = 900, bottom=400)\nplt.title('Tesla (TSLA) Stock Price', fontdict=font)\nplt.xlabel('Date', fontdict=font)\nplt.ylabel('Price ($)', fontdict=font)",
   "metadata": {
    "tags": [],
    "cell_id": "00048-3442c095-a8b8-44a4-b199-c871e5980431",
    "deepnote_to_be_reexecuted": false,
    "source_hash": "1a4d77ec",
    "execution_start": 1632431700092,
    "execution_millis": 216,
    "deepnote_cell_type": "code"
   },
   "outputs": [
    {
     "output_type": "execute_result",
     "execution_count": 19,
     "data": {
      "text/plain": "Text(0, 0.5, 'Price ($)')"
     },
     "metadata": {}
    },
    {
     "data": {
      "text/plain": "<Figure size 432x288 with 1 Axes>",
      "image/png": "[encoded data removed]"
     },
     "metadata": {
      "needs_background": "light",
      "image/png": {
       "width": 396,
       "height": 288
      }
     },
     "output_type": "display_data"
    }
   ],
   "execution_count": 19
  },
  {
   "cell_type": "markdown",
   "source": "### Question 10",
   "metadata": {
    "tags": [],
    "is_collapsed": false,
    "cell_id": "00050-af0a302f-d4c9-4966-959b-9e0851f21951",
    "deepnote_cell_type": "text-cell-h3"
   }
  },
  {
   "cell_type": "markdown",
   "source": "We can also understand the distribution of the variaton of price,the net variation over the day and the whole variation over the day",
   "metadata": {
    "tags": [],
    "cell_id": "00051-e8fc0f0e-3935-4f87-83e9-080844e88b44",
    "deepnote_cell_type": "markdown"
   }
  },
  {
   "cell_type": "code",
   "source": "fig, (ax1, ax2) = plt.subplots(1, 2, figsize=(13, 3.2));\nax1.hist(data_tesla['Variation over day'],bins=50);\nax1.set_title('Net Variation Over Day');\nax1.set_xlabel('Date')\nax1.set_ylabel('USD ($)')\nax2.hist(data_tesla['Abs Variation'],bins=50);\nax2.set_title('Absolute Variation over Day');\nax2.set_xlabel('Date')\nax2.set_ylabel('USD ($)')\n",
   "metadata": {
    "tags": [],
    "cell_id": "00052-77069ca1-8fe3-4c25-b3e0-899a89a40d32",
    "deepnote_to_be_reexecuted": false,
    "source_hash": "f048d6d5",
    "execution_start": 1632432817099,
    "execution_millis": 494,
    "deepnote_cell_type": "code"
   },
   "outputs": [
    {
     "output_type": "execute_result",
     "execution_count": 46,
     "data": {
      "text/plain": "Text(0, 0.5, 'USD ($)')"
     },
     "metadata": {}
    },
    {
     "data": {
      "text/plain": "<Figure size 936x230.4 with 2 Axes>",
      "image/png": "[encoded data removed]"
     },
     "metadata": {
      "needs_background": "light",
      "image/png": {
       "width": 783,
       "height": 235
      }
     },
     "output_type": "display_data"
    }
   ],
   "execution_count": 46
  },
  {
   "cell_type": "markdown",
   "source": "<a style='text-decoration:none;line-height:16px;display:flex;color:#5B5B62;padding:10px;justify-content:end;' href='https://deepnote.com?utm_source=created-in-deepnote-cell&projectId=c3e4079d-b65d-4f98-a9c4-e84568c199f2' target=\"_blank\">\n<img alt='Created in deepnote.com' style='display:inline;max-height:16px;margin:0px;margin-right:7.5px;' src='data:image/svg+xml;base64,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' > </img>\nCreated in <span style='font-weight:600;margin-left:4px;'>Deepnote</span></a>",
   "metadata": {
    "tags": [],
    "created_in_deepnote_cell": true,
    "deepnote_cell_type": "markdown"
   }
  }
 ],
 "nbformat": 4,
 "nbformat_minor": 2,
 "metadata": {
  "orig_nbformat": 2,
  "deepnote": {
   "is_reactive": false
  },
  "deepnote_notebook_id": "0f2f1c01-1e50-4cea-8d6d-813093eae9ff",
  "deepnote_execution_queue": []
 }
}